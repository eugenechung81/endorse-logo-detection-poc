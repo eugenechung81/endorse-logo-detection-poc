{
 "cells": [
  {
   "cell_type": "markdown",
   "metadata": {},
   "source": [
    "# 0. Setup Paths"
   ]
  },
  {
   "cell_type": "code",
   "execution_count": 1,
   "metadata": {},
   "outputs": [],
   "source": [
    "import pandas as pd\n",
    "import tensorflow as tf\n",
    "from object_detection.utils import config_util\n",
    "from object_detection.protos import pipeline_pb2\n",
    "from google.protobuf import text_format\n",
    "\n",
    "import os\n",
    "from object_detection.utils import label_map_util\n",
    "from object_detection.utils import visualization_utils as viz_utils\n",
    "from object_detection.builders import model_builder\n",
    "\n",
    "import cv2 \n",
    "import numpy as np\n",
    "\n",
    "import matplotlib\n",
    "matplotlib.use('TkAgg')\n",
    "import matplotlib.pyplot as plt\n",
    "\n",
    "from object_detection.utils import label_map_util\n",
    "import os\n",
    "%matplotlib inline"
   ]
  },
  {
   "cell_type": "code",
   "execution_count": 2,
   "metadata": {},
   "outputs": [],
   "source": [
    "WORKSPACE_PATH = 'Tensorflow/workspace'\n",
    "SCRIPTS_PATH = 'Tensorflow/scripts'\n",
    "APIMODEL_PATH = 'Tensorflow/models'\n",
    "ANNOTATION_PATH = WORKSPACE_PATH+'/annotations'\n",
    "IMAGE_PATH = WORKSPACE_PATH+'/images'\n",
    "MODEL_PATH = WORKSPACE_PATH+'/models'\n",
    "PRETRAINED_MODEL_PATH = WORKSPACE_PATH+'/pre-trained-models'\n",
    "CONFIG_PATH = MODEL_PATH+'/my_ssd_mobnet/pipeline.config'\n",
    "CHECKPOINT_PATH = MODEL_PATH+'/my_ssd_mobnet/'\n",
    "CUSTOM_MODEL_NAME = 'my_ssd_mobnet' \n",
    "CONFIG_PATH = MODEL_PATH+'/'+CUSTOM_MODEL_NAME+'/pipeline.config'"
   ]
  },
  {
   "cell_type": "markdown",
   "metadata": {},
   "source": [
    "# 7. Initialize"
   ]
  },
  {
   "cell_type": "code",
   "execution_count": 3,
   "metadata": {},
   "outputs": [],
   "source": [
    "# Load pipeline config and build a detection model\n",
    "configs = config_util.get_configs_from_pipeline_file(CONFIG_PATH)\n",
    "detection_model = model_builder.build(model_config=configs['model'], is_training=False)\n",
    "\n",
    "# Restore checkpoint\n",
    "ckpt = tf.compat.v2.train.Checkpoint(model=detection_model)\n",
    "ckpt.restore(os.path.join(CHECKPOINT_PATH, 'ckpt-3')).expect_partial()\n",
    "\n",
    "category_index = label_map_util.create_category_index_from_labelmap(ANNOTATION_PATH + '\\label_map.pbtxt')"
   ]
  },
  {
   "cell_type": "code",
   "execution_count": 11,
   "metadata": {},
   "outputs": [],
   "source": [
    "@tf.function\n",
    "def detect_fn(image):\n",
    "    image, shapes = detection_model.preprocess(image)\n",
    "    prediction_dict = detection_model.predict(image, shapes)\n",
    "    detections = detection_model.postprocess(prediction_dict, shapes)\n",
    "    return detections\n",
    "\n",
    "def get_box(img_path, detections):\n",
    "    img = cv2.imread(img_path)\n",
    "    im_width, im_height, _ = img.shape\n",
    "    [ymin, xmin, ymax, xmax] = detections['detection_boxes'][0]\n",
    "    (left, right, top, bottom) = (xmin * im_width, xmax * im_width, \n",
    "                              ymin * im_height, ymax * im_height)\n",
    "    return (left, right, top, bottom)\n",
    "\n",
    "def process_video(img_path, return_df=True, write_frames=False):\n",
    "    cap = cv2.VideoCapture(img_path)\n",
    "    fps = cap.get(cv2.CAP_PROP_FPS)   \n",
    "    rows = []\n",
    "\n",
    "    while True:\n",
    "        ret, img = cap.read()    \n",
    "\n",
    "        current_frame = cap.get(cv2.CAP_PROP_POS_FRAMES)\n",
    "        if ret == True:\n",
    "            if current_frame % fps == 0:\n",
    "                # detect \n",
    "                image_np = np.array(img)\n",
    "                input_tensor = tf.convert_to_tensor(np.expand_dims(image_np, 0), dtype=tf.float32)\n",
    "                detections = detect_fn(input_tensor)\n",
    "                num_detections = int(detections.pop('num_detections'))\n",
    "                detections = {key: value[0, :num_detections].numpy()\n",
    "                              for key, value in detections.items()}\n",
    "\n",
    "                if return_df:                \n",
    "                    # return as data frame\n",
    "                    current_seconds = current_frame/fps\n",
    "                    if sum(detections['detection_scores'][:5] > 0.8) > 0:\n",
    "                        rows.append({\n",
    "                            'seconds': current_seconds,\n",
    "                            'detected': 1\n",
    "                        })                    \n",
    "                \n",
    "                if write_frames:\n",
    "                    # create bounding box \n",
    "                    detections['num_detections'] = num_detections\n",
    "                    detections['detection_classes'] = detections['detection_classes'].astype(np.int64)\n",
    "                    label_id_offset = 1\n",
    "                    image_np_with_detections = image_np.copy()\n",
    "\n",
    "                    # draw box \n",
    "                    viz_utils.visualize_boxes_and_labels_on_image_array(\n",
    "                                image_np_with_detections,\n",
    "                                detections['detection_boxes'],\n",
    "                                detections['detection_classes']+label_id_offset,\n",
    "                                detections['detection_scores'],\n",
    "                                category_index,\n",
    "                                use_normalized_coordinates=True,\n",
    "                                max_boxes_to_draw=5,\n",
    "                                min_score_thresh=.8,\n",
    "                                agnostic_mode=False)\n",
    "\n",
    "                    # output\n",
    "                    if sum(detections['detection_scores'][:5] > 0.8) > 0:\n",
    "                        file_name = \"frames/\" + img_path.split('.')[0] + '_f' + str(round(current_frame/fps)) + \".jpg\"\n",
    "                        cv2.imwrite(file_name, image_np_with_detections)\n",
    "                        # cv2.imshow('video', image_np_with_detections)\n",
    "                \n",
    "                print('Processing: {} seconds, frame {}'.format(current_frame/fps, current_frame))\n",
    "            if cv2.waitKey(25) == ord('q'):\n",
    "                break\n",
    "        else:\n",
    "            break\n",
    "            \n",
    "    return pd.DataFrame(rows)\n",
    "\n",
    "def process_realtime(cap):\n",
    "    while True:\n",
    "        ret, img = cap.read()    \n",
    "\n",
    "        if ret == True:\n",
    "            image_np = np.array(img)\n",
    "\n",
    "            input_tensor = tf.convert_to_tensor(np.expand_dims(image_np, 0), dtype=tf.float32)\n",
    "            detections = detect_fn(input_tensor)\n",
    "\n",
    "            num_detections = int(detections.pop('num_detections'))\n",
    "            detections = {key: value[0, :num_detections].numpy()\n",
    "                          for key, value in detections.items()}\n",
    "            detections['num_detections'] = num_detections\n",
    "\n",
    "            # detection_classes should be ints.\n",
    "            detections['detection_classes'] = detections['detection_classes'].astype(np.int64)\n",
    "\n",
    "            label_id_offset = 1\n",
    "            image_np_with_detections = image_np.copy()\n",
    "\n",
    "            viz_utils.visualize_boxes_and_labels_on_image_array(\n",
    "                        image_np_with_detections,\n",
    "                        detections['detection_boxes'],\n",
    "                        detections['detection_classes']+label_id_offset,\n",
    "                        detections['detection_scores'],\n",
    "                        category_index,\n",
    "                        use_normalized_coordinates=True,\n",
    "                        max_boxes_to_draw=5,\n",
    "                        min_score_thresh=.8,\n",
    "                        agnostic_mode=False)\n",
    "\n",
    "\n",
    "            cv2.imshow('video', image_np_with_detections)\n",
    "    #         current_frame = cap.get(cv2.CAP_PROP_POS_FRAMES)\n",
    "    #         print('{}: {}'.format(current_frame,current_frame/fps))\n",
    "            if cv2.waitKey(25) == ord('q'):\n",
    "                break\n",
    "        else:\n",
    "            break\n",
    "            \n",
    "def process_image(img_path):\n",
    "    img = cv2.imread(img_path)\n",
    "    image_np = np.array(img)\n",
    "\n",
    "    input_tensor = tf.convert_to_tensor(np.expand_dims(image_np, 0), dtype=tf.float32)\n",
    "    detections = detect_fn(input_tensor)\n",
    "\n",
    "    num_detections = int(detections.pop('num_detections'))\n",
    "    detections = {key: value[0, :num_detections].numpy()\n",
    "                  for key, value in detections.items()}\n",
    "    detections['num_detections'] = num_detections\n",
    "\n",
    "    # detection_classes should be ints.\n",
    "    detections['detection_classes'] = detections['detection_classes'].astype(np.int64)\n",
    "\n",
    "    label_id_offset = 1\n",
    "    image_np_with_detections = image_np.copy()\n",
    "\n",
    "    viz_utils.visualize_boxes_and_labels_on_image_array(\n",
    "                image_np_with_detections,\n",
    "                detections['detection_boxes'],\n",
    "                detections['detection_classes']+label_id_offset,\n",
    "                detections['detection_scores'],\n",
    "                category_index,\n",
    "                use_normalized_coordinates=True,\n",
    "                max_boxes_to_draw=5,\n",
    "                min_score_thresh=.8,\n",
    "                agnostic_mode=False)\n",
    "\n",
    "    plt.imshow(cv2.cvtColor(image_np_with_detections, cv2.COLOR_BGR2RGB))\n",
    "    plt.show()            "
   ]
  },
  {
   "cell_type": "markdown",
   "metadata": {},
   "source": [
    "# Detect Image"
   ]
  },
  {
   "cell_type": "code",
   "execution_count": 44,
   "metadata": {},
   "outputs": [
    {
     "data": {
      "image/png": "[encoded data removed]",
      "text/plain": [
       "<Figure size 432x288 with 1 Axes>"
      ]
     },
     "metadata": {
      "needs_background": "light"
     },
     "output_type": "display_data"
    }
   ],
   "source": [
    "process_image(img_path)"
   ]
  },
  {
   "cell_type": "markdown",
   "metadata": {},
   "source": [
    "# Process Real Time\n",
    "\n"
   ]
  },
  {
   "cell_type": "code",
   "execution_count": 5,
   "metadata": {},
   "outputs": [],
   "source": [
    "cap = cv2.VideoCapture(\"1101763346_clip_s3009_d61.mp4\")\n",
    "process_realtime(cap)"
   ]
  },
  {
   "cell_type": "code",
   "execution_count": 6,
   "metadata": {},
   "outputs": [],
   "source": [
    "cap.release()\n",
    "cv2.destroyAllWindows()"
   ]
  },
  {
   "cell_type": "markdown",
   "metadata": {},
   "source": [
    "# Process Video"
   ]
  },
  {
   "cell_type": "code",
   "execution_count": 14,
   "metadata": {},
   "outputs": [
    {
     "name": "stdout",
     "output_type": "stream",
     "text": [
      "Processing: 1.0 seconds, frame 60.0\n",
      "Processing: 2.0 seconds, frame 120.0\n",
      "Processing: 3.0 seconds, frame 180.0\n",
      "Processing: 4.0 seconds, frame 240.0\n",
      "Processing: 5.0 seconds, frame 300.0\n",
      "Processing: 6.0 seconds, frame 360.0\n",
      "Processing: 7.0 seconds, frame 420.0\n",
      "Processing: 8.0 seconds, frame 480.0\n",
      "Processing: 9.0 seconds, frame 540.0\n",
      "Processing: 10.0 seconds, frame 600.0\n",
      "Processing: 11.0 seconds, frame 660.0\n",
      "Processing: 12.0 seconds, frame 720.0\n",
      "Processing: 13.0 seconds, frame 780.0\n",
      "Processing: 14.0 seconds, frame 840.0\n",
      "Processing: 15.0 seconds, frame 900.0\n",
      "Processing: 16.0 seconds, frame 960.0\n"
     ]
    }
   ],
   "source": [
    "# img_path = \"1103313375_clip_s14476_d132-cut-1.mp4\"\n",
    "img_path = \"1106871070_clip_s17118_d16.mp4\"\n",
    "df = process_video(img_path, return_df=True, write_frames=True)"
   ]
  },
  {
   "cell_type": "code",
   "execution_count": 13,
   "metadata": {},
   "outputs": [
    {
     "data": {
      "text/html": [
       "<div>\n",
       "<style scoped>\n",
       "    .dataframe tbody tr th:only-of-type {\n",
       "        vertical-align: middle;\n",
       "    }\n",
       "\n",
       "    .dataframe tbody tr th {\n",
       "        vertical-align: top;\n",
       "    }\n",
       "\n",
       "    .dataframe thead th {\n",
       "        text-align: right;\n",
       "    }\n",
       "</style>\n",
       "<table border=\"1\" class=\"dataframe\">\n",
       "  <thead>\n",
       "    <tr style=\"text-align: right;\">\n",
       "      <th></th>\n",
       "    </tr>\n",
       "  </thead>\n",
       "  <tbody>\n",
       "  </tbody>\n",
       "</table>\n",
       "</div>"
      ],
      "text/plain": [
       "Empty DataFrame\n",
       "Columns: []\n",
       "Index: []"
      ]
     },
     "execution_count": 13,
     "metadata": {},
     "output_type": "execute_result"
    }
   ],
   "source": [
    "df"
   ]
  },
  {
   "cell_type": "code",
   "execution_count": null,
   "metadata": {},
   "outputs": [],
   "source": []
  },
  {
   "cell_type": "code",
   "execution_count": 18,
   "metadata": {},
   "outputs": [],
   "source": [
    "df = pd.read_csv('1102239417_s0_d3600.csv').drop(columns=['Unnamed: 0'])"
   ]
  },
  {
   "cell_type": "code",
   "execution_count": 24,
   "metadata": {},
   "outputs": [],
   "source": [
    "df2 = pd.DataFrame([x + 1 for x in range(3600)], columns=['seconds'])"
   ]
  },
  {
   "cell_type": "code",
   "execution_count": 28,
   "metadata": {},
   "outputs": [],
   "source": [
    "df = df2.merge(df, how='left', on='seconds')"
   ]
  },
  {
   "cell_type": "code",
   "execution_count": 31,
   "metadata": {},
   "outputs": [],
   "source": [
    "df['detected'] = df['detected'].fillna(0)"
   ]
  },
  {
   "cell_type": "code",
   "execution_count": 33,
   "metadata": {},
   "outputs": [],
   "source": [
    "df.to_csv('1102239417_s0_d3600_answer_sheet.csv')"
   ]
  },
  {
   "cell_type": "code",
   "execution_count": null,
   "metadata": {},
   "outputs": [],
   "source": []
  },
  {
   "cell_type": "markdown",
   "metadata": {},
   "source": [
    "# Measure Accuracy"
   ]
  },
  {
   "cell_type": "code",
   "execution_count": 39,
   "metadata": {},
   "outputs": [],
   "source": [
    "from sklearn.metrics import classification_report"
   ]
  },
  {
   "cell_type": "code",
   "execution_count": 55,
   "metadata": {},
   "outputs": [],
   "source": [
    "df = pd.read_csv('1102239417_s0_d3600_answer_sheet.csv').drop(columns=['Unnamed: 0'])\n",
    "# df = df.iloc[:1600]\n",
    "df = df.fillna(0)"
   ]
  },
  {
   "cell_type": "code",
   "execution_count": 57,
   "metadata": {},
   "outputs": [
    {
     "name": "stdout",
     "output_type": "stream",
     "text": [
      "              precision    recall  f1-score   support\n",
      "\n",
      "         0.0       1.00      0.85      0.92      2866\n",
      "         1.0       0.64      1.00      0.78       760\n",
      "\n",
      "    accuracy                           0.88      3626\n",
      "   macro avg       0.82      0.93      0.85      3626\n",
      "weighted avg       0.92      0.88      0.89      3626\n",
      "\n"
     ]
    }
   ],
   "source": [
    "print(classification_report(df['labeled'], df['detected']))"
   ]
  },
  {
   "cell_type": "code",
   "execution_count": 58,
   "metadata": {},
   "outputs": [],
   "source": [
    "df = df[df['first_score'] > .9]"
   ]
  },
  {
   "cell_type": "code",
   "execution_count": 59,
   "metadata": {},
   "outputs": [
    {
     "name": "stdout",
     "output_type": "stream",
     "text": [
      "              precision    recall  f1-score   support\n",
      "\n",
      "         0.0       0.00      0.00      0.00        27\n",
      "         1.0       0.96      1.00      0.98       708\n",
      "\n",
      "    accuracy                           0.96       735\n",
      "   macro avg       0.48      0.50      0.49       735\n",
      "weighted avg       0.93      0.96      0.95       735\n",
      "\n"
     ]
    },
    {
     "name": "stderr",
     "output_type": "stream",
     "text": [
      "C:\\ProgramData\\Anaconda3\\lib\\site-packages\\sklearn\\metrics\\_classification.py:1248: UndefinedMetricWarning: Precision and F-score are ill-defined and being set to 0.0 in labels with no predicted samples. Use `zero_division` parameter to control this behavior.\n",
      "  _warn_prf(average, modifier, msg_start, len(result))\n",
      "C:\\ProgramData\\Anaconda3\\lib\\site-packages\\sklearn\\metrics\\_classification.py:1248: UndefinedMetricWarning: Precision and F-score are ill-defined and being set to 0.0 in labels with no predicted samples. Use `zero_division` parameter to control this behavior.\n",
      "  _warn_prf(average, modifier, msg_start, len(result))\n",
      "C:\\ProgramData\\Anaconda3\\lib\\site-packages\\sklearn\\metrics\\_classification.py:1248: UndefinedMetricWarning: Precision and F-score are ill-defined and being set to 0.0 in labels with no predicted samples. Use `zero_division` parameter to control this behavior.\n",
      "  _warn_prf(average, modifier, msg_start, len(result))\n"
     ]
    }
   ],
   "source": [
    "print(classification_report(df['labeled'], df['detected']))"
   ]
  }
 ],
 "metadata": {
  "kernelspec": {
   "display_name": "Python 3",
   "language": "python",
   "name": "python3"
  },
  "language_info": {
   "codemirror_mode": {
    "name": "ipython",
    "version": 3
   },
   "file_extension": ".py",
   "mimetype": "text/x-python",
   "name": "python",
   "nbconvert_exporter": "python",
   "pygments_lexer": "ipython3",
   "version": "3.7.3"
  }
 },
 "nbformat": 4,
 "nbformat_minor": 4
}
